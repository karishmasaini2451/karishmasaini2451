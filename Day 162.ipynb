{
 "cells": [
  {
   "cell_type": "markdown",
   "id": "2fc652ce",
   "metadata": {},
   "source": [
    "write a numpy program to sort an given array by row and column in ascending order."
   ]
  },
  {
   "cell_type": "code",
   "execution_count": 2,
   "id": "797ffc19",
   "metadata": {},
   "outputs": [],
   "source": [
    "import numpy as np"
   ]
  },
  {
   "cell_type": "code",
   "execution_count": 3,
   "id": "878fb960",
   "metadata": {},
   "outputs": [
    {
     "data": {
      "text/plain": [
       "array([[ 20,  40,  78,  79],\n",
       "       [ 12,  34,  56, 100],\n",
       "       [ 11,  22,  33,  44]])"
      ]
     },
     "execution_count": 3,
     "metadata": {},
     "output_type": "execute_result"
    }
   ],
   "source": [
    "a = np.array([[20,40,78,79],[12,34,56,100],[11,22,33,44]])\n",
    "a"
   ]
  },
  {
   "cell_type": "code",
   "execution_count": 4,
   "id": "98e6969b",
   "metadata": {},
   "outputs": [
    {
     "data": {
      "text/plain": [
       "array([[ 11,  22,  33,  44],\n",
       "       [ 12,  34,  56,  79],\n",
       "       [ 20,  40,  78, 100]])"
      ]
     },
     "execution_count": 4,
     "metadata": {},
     "output_type": "execute_result"
    }
   ],
   "source": [
    "ascending_order = np.sort(a,axis=0)\n",
    "ascending_order"
   ]
  }
 ],
 "metadata": {
  "kernelspec": {
   "display_name": "Python 3",
   "language": "python",
   "name": "python3"
  },
  "language_info": {
   "codemirror_mode": {
    "name": "ipython",
    "version": 3
   },
   "file_extension": ".py",
   "mimetype": "text/x-python",
   "name": "python",
   "nbconvert_exporter": "python",
   "pygments_lexer": "ipython3",
   "version": "3.8.8"
  }
 },
 "nbformat": 4,
 "nbformat_minor": 5
}
