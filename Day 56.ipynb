{
 "cells": [
  {
   "cell_type": "markdown",
   "id": "3d662cf8",
   "metadata": {},
   "source": [
    "Write a Python program to map two lists into a dictionary."
   ]
  },
  {
   "cell_type": "code",
   "execution_count": 1,
   "id": "1d39b89b",
   "metadata": {},
   "outputs": [
    {
     "name": "stdout",
     "output_type": "stream",
     "text": [
      "{'red': 1, 'green': 2, 'yellow': 3}\n"
     ]
    }
   ],
   "source": [
    "x = ['red','green','yellow']\n",
    "y = [1,2,3]\n",
    "d =  dict(zip(x,y))\n",
    "print(d)"
   ]
  },
  {
   "cell_type": "markdown",
   "id": "5e7129bb",
   "metadata": {},
   "source": [
    "Write a Python program to sort a given dictionary by key."
   ]
  },
  {
   "cell_type": "code",
   "execution_count": 2,
   "id": "c988d817",
   "metadata": {},
   "outputs": [
    {
     "name": "stdout",
     "output_type": "stream",
     "text": [
      "[1, 3, 4, 5]\n"
     ]
    }
   ],
   "source": [
    "d  ={1:2,5:3,3:4,4:5}\n",
    "n =sorted(d,key = lambda x:x)\n",
    "print(n)"
   ]
  }
 ],
 "metadata": {
  "kernelspec": {
   "display_name": "Python 3",
   "language": "python",
   "name": "python3"
  },
  "language_info": {
   "codemirror_mode": {
    "name": "ipython",
    "version": 3
   },
   "file_extension": ".py",
   "mimetype": "text/x-python",
   "name": "python",
   "nbconvert_exporter": "python",
   "pygments_lexer": "ipython3",
   "version": "3.8.8"
  }
 },
 "nbformat": 4,
 "nbformat_minor": 5
}
