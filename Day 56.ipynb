{
 "cells": [
  {
   "cell_type": "markdown",
   "id": "50cfbb12",
   "metadata": {},
   "source": [
    "Write a Python program to remove duplicates from Dictionary."
   ]
  },
  {
   "cell_type": "code",
   "execution_count": 1,
   "id": "6bbdcb1f",
   "metadata": {},
   "outputs": [
    {
     "name": "stdout",
     "output_type": "stream",
     "text": [
      "{1: 2, 5: 3, 3: 4, 4: 5}\n"
     ]
    }
   ],
   "source": [
    "d  ={1:2,5:3,3:4,4:5,4:5}\n",
    "m = dict()\n",
    "for k,v in d.items():\n",
    "    if k  not in m.keys():\n",
    "        m[k]=v\n",
    "        \n",
    "print(m)\n"
   ]
  }
 ],
 "metadata": {
  "kernelspec": {
   "display_name": "Python 3",
   "language": "python",
   "name": "python3"
  },
  "language_info": {
   "codemirror_mode": {
    "name": "ipython",
    "version": 3
   },
   "file_extension": ".py",
   "mimetype": "text/x-python",
   "name": "python",
   "nbconvert_exporter": "python",
   "pygments_lexer": "ipython3",
   "version": "3.8.8"
  }
 },
 "nbformat": 4,
 "nbformat_minor": 5
}
