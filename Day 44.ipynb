{
 "cells": [
  {
   "cell_type": "markdown",
   "id": "0ee991ac",
   "metadata": {},
   "source": [
    "Write a program to check whether the last digit of a number( entered by user ) is divisible by 3 or not."
   ]
  },
  {
   "cell_type": "code",
   "execution_count": 2,
   "id": "cd658e9a",
   "metadata": {},
   "outputs": [
    {
     "name": "stdout",
     "output_type": "stream",
     "text": [
      "enter a number:7\n",
      " number is not divisible by 3\n"
     ]
    }
   ],
   "source": [
    "number = int(input('enter a number:'))\n",
    "last_digit = number%10\n",
    "if last_digit % 3==0:\n",
    "    print('number is divisible by 3')\n",
    "else:\n",
    "    print(' number is not divisible by 3')"
   ]
  }
 ],
 "metadata": {
  "kernelspec": {
   "display_name": "Python 3",
   "language": "python",
   "name": "python3"
  },
  "language_info": {
   "codemirror_mode": {
    "name": "ipython",
    "version": 3
   },
   "file_extension": ".py",
   "mimetype": "text/x-python",
   "name": "python",
   "nbconvert_exporter": "python",
   "pygments_lexer": "ipython3",
   "version": "3.8.8"
  }
 },
 "nbformat": 4,
 "nbformat_minor": 5
}
