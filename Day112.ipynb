{
 "cells": [
  {
   "cell_type": "markdown",
   "id": "0a425d19",
   "metadata": {},
   "source": [
    "Write a program which can map() and filter to make a list whose elements are square of even number in [1, 2, 3, 4, 5, 6, 7, 8, 9, 10]."
   ]
  },
  {
   "cell_type": "code",
   "execution_count": 1,
   "id": "21c05eb0",
   "metadata": {},
   "outputs": [
    {
     "name": "stdout",
     "output_type": "stream",
     "text": [
      "[4, 16, 36, 64, 100]\n"
     ]
    }
   ],
   "source": [
    "print (list(map(lambda x:x ** 2, filter(lambda x:x % 2 == 0, [1, 2, 3, 4, 5, 6, 7, 8, 9, 10]))))"
   ]
  }
 ],
 "metadata": {
  "kernelspec": {
   "display_name": "Python 3",
   "language": "python",
   "name": "python3"
  },
  "language_info": {
   "codemirror_mode": {
    "name": "ipython",
    "version": 3
   },
   "file_extension": ".py",
   "mimetype": "text/x-python",
   "name": "python",
   "nbconvert_exporter": "python",
   "pygments_lexer": "ipython3",
   "version": "3.8.8"
  }
 },
 "nbformat": 4,
 "nbformat_minor": 5
}
