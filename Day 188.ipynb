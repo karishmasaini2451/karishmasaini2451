{
 "cells": [
  {
   "cell_type": "markdown",
   "id": "860f2944",
   "metadata": {},
   "source": [
    "20. Write a Python program to find the numbers of a given string and store them in a list, display the numbers which are bigger than the length of the list in sorted form. Use lambda function to solve the problem.\n",
    "Original string: sdf 23 safs8 5 sdfsd8 sdfs 56 21sfs 20 5\n",
    "\n",
    "Numbers in sorted form:\n",
    "20 23 56"
   ]
  },
  {
   "cell_type": "code",
   "execution_count": 1,
   "id": "deb73fc4",
   "metadata": {},
   "outputs": [
    {
     "name": "stdout",
     "output_type": "stream",
     "text": [
      "Original string: sdf 23 safs8 5 sdfsd8 sdfs 56 21sfs 20 5\n",
      "\n",
      "Numbers in sorted form:\n",
      "20 23 56 "
     ]
    }
   ],
   "source": [
    "print ('Original string: sdf 23 safs8 5 sdfsd8 sdfs 56 21sfs 20 5')\n",
    "string = 'sdf 23 safs8 5 sdfsd8 sdfs 56 21sfs 20 5'\n",
    "l = []\n",
    "\n",
    "for i in string.split(' '):\n",
    "    if i.isdigit():\n",
    "        l.append(int(i))\n",
    "        \n",
    "print ('\\nNumbers in sorted form:')    \n",
    "\n",
    "for i in ((filter(lambda x:x > len(string.split(' ')), sorted(l)))):\n",
    "    print(i, end = ' ')"
   ]
  }
 ],
 "metadata": {
  "kernelspec": {
   "display_name": "Python 3",
   "language": "python",
   "name": "python3"
  },
  "language_info": {
   "codemirror_mode": {
    "name": "ipython",
    "version": 3
   },
   "file_extension": ".py",
   "mimetype": "text/x-python",
   "name": "python",
   "nbconvert_exporter": "python",
   "pygments_lexer": "ipython3",
   "version": "3.8.8"
  }
 },
 "nbformat": 4,
 "nbformat_minor": 5
}
