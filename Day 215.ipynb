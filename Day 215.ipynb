{
 "cells": [
  {
   "cell_type": "markdown",
   "id": "50de58e8",
   "metadata": {},
   "source": [
    "Write a Python program to find the second lowest grade of any student(s) from the given names and grades of each student using lists and lambda. Input number of students, names and grades of each student.\n",
    "Input number of students: 5\n",
    "Name: S ROY\n",
    "Grade: 1\n",
    "Name: B BOSE\n",
    "Grade: 3\n",
    "Name: N KAR\n",
    "Grade: 2\n",
    "Name: C DUTTA\n",
    "Grade: 1\n",
    "Name: G GHOSH\n",
    "Grade: 1\n",
    "\n",
    "Names and Grades of all students:\n",
    "[['S ROY', 1.0], ['B BOSE', 3.0], ['N KAR', 2.0], ['C DUTTA', 1.0], ['G GHOSH', 1.0]]\n",
    "Second lowest grade: 2.0\n",
    "Names:\n",
    "N KAR"
   ]
  },
  {
   "cell_type": "code",
   "execution_count": 3,
   "id": "82b0b82b",
   "metadata": {},
   "outputs": [
    {
     "name": "stdout",
     "output_type": "stream",
     "text": [
      "Input number of students: 5\n",
      "Name: S SOY\n",
      "Grade: 1\n",
      "Name: B BOSE\n",
      "Grade: 3\n",
      "Name: N KAR\n",
      "Grade: 2\n",
      "Name: C DUTTA\n",
      "Grade: 1\n",
      "Name: G GHOSH\n",
      "Grade: 1\n",
      "\n",
      "Names and Grades of all students:\n",
      "[['S SOY', 1], ['B BOSE', 3], ['N KAR', 2], ['C DUTTA', 1], ['G GHOSH', 1]]\n",
      "Second lowest grade: 2\n",
      "Names: N KAR\n"
     ]
    }
   ],
   "source": [
    "stud = int(input('Input number of students: '))\n",
    "l = []\n",
    "\n",
    "for i in range(stud):\n",
    "    s_name = input('Name: ')\n",
    "    s_grade = int(input('Grade: '))\n",
    "    l.append(list([s_name, s_grade]))\n",
    "\n",
    "lowest = sorted(l, key = lambda x: int(x[1]))\n",
    "\n",
    "for i in range(stud):\n",
    "    if lowest[i][1] != lowest[0][1]:\n",
    "        low = lowest[i][1]\n",
    "        name = lowest[i][0]\n",
    "        break\n",
    "\n",
    "print ('')\n",
    "print ('Names and Grades of all students:')\n",
    "print (l)\n",
    "print ('Second lowest grade:', low)\n",
    "print ('Names:', name)"
   ]
  }
 ],
 "metadata": {
  "kernelspec": {
   "display_name": "Python 3",
   "language": "python",
   "name": "python3"
  },
  "language_info": {
   "codemirror_mode": {
    "name": "ipython",
    "version": 3
   },
   "file_extension": ".py",
   "mimetype": "text/x-python",
   "name": "python",
   "nbconvert_exporter": "python",
   "pygments_lexer": "ipython3",
   "version": "3.8.8"
  }
 },
 "nbformat": 4,
 "nbformat_minor": 5
}
