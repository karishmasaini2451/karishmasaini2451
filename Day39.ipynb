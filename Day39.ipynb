{
 "cells": [
  {
   "cell_type": "markdown",
   "id": "7b6a3c4e",
   "metadata": {},
   "source": [
    "Write a Python program to guess a number between 1 to 9."
   ]
  },
  {
   "cell_type": "code",
   "execution_count": 1,
   "id": "aabd352a",
   "metadata": {},
   "outputs": [
    {
     "name": "stdout",
     "output_type": "stream",
     "text": [
      "7\n"
     ]
    }
   ],
   "source": [
    "n = [1,2,3,4,5,6,7,8,9]\n",
    "import random\n",
    "print(random.choice(n))"
   ]
  },
  {
   "cell_type": "markdown",
   "id": "88020df9",
   "metadata": {},
   "source": [
    "Write a Python program to count the number of even and odd numbers from a series of numbers."
   ]
  },
  {
   "cell_type": "code",
   "execution_count": 2,
   "id": "dcc60688",
   "metadata": {},
   "outputs": [
    {
     "name": "stdout",
     "output_type": "stream",
     "text": [
      "total even numbers: 4\n",
      "total odd numbers : 5\n"
     ]
    }
   ],
   "source": [
    "n = (1,2,3,4,5,6,7,8,9)\n",
    "count = 0\n",
    "count1 =0\n",
    "for i in n:\n",
    "    if i %2==0:\n",
    "        count = count+1\n",
    "    else:\n",
    "        count1 = count1+1\n",
    "        \n",
    "print('total even numbers:',count)\n",
    "print('total odd numbers :',count1)\n",
    "        "
   ]
  }
 ],
 "metadata": {
  "kernelspec": {
   "display_name": "Python 3",
   "language": "python",
   "name": "python3"
  },
  "language_info": {
   "codemirror_mode": {
    "name": "ipython",
    "version": 3
   },
   "file_extension": ".py",
   "mimetype": "text/x-python",
   "name": "python",
   "nbconvert_exporter": "python",
   "pygments_lexer": "ipython3",
   "version": "3.8.8"
  }
 },
 "nbformat": 4,
 "nbformat_minor": 5
}
