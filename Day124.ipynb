{
 "cells": [
  {
   "cell_type": "markdown",
   "id": "546851e7",
   "metadata": {},
   "source": [
    "Define a class which have a class parameter and have a same instance parameter."
   ]
  },
  {
   "cell_type": "code",
   "execution_count": 1,
   "id": "6fef1316",
   "metadata": {},
   "outputs": [],
   "source": [
    "class Person:\n",
    "    name = \"Person\"\n",
    "    def __init__(self, name):\n",
    "        self.name = name"
   ]
  },
  {
   "cell_type": "code",
   "execution_count": 2,
   "id": "3102137a",
   "metadata": {},
   "outputs": [],
   "source": [
    "insance_parameter = Person(\"Amit\")"
   ]
  },
  {
   "cell_type": "code",
   "execution_count": 3,
   "id": "74f3ead8",
   "metadata": {},
   "outputs": [
    {
     "name": "stdout",
     "output_type": "stream",
     "text": [
      "Person name is Amit\n"
     ]
    }
   ],
   "source": [
    "print (f\"{Person.name} name is {insance_parameter.name}\")"
   ]
  }
 ],
 "metadata": {
  "kernelspec": {
   "display_name": "Python 3",
   "language": "python",
   "name": "python3"
  },
  "language_info": {
   "codemirror_mode": {
    "name": "ipython",
    "version": 3
   },
   "file_extension": ".py",
   "mimetype": "text/x-python",
   "name": "python",
   "nbconvert_exporter": "python",
   "pygments_lexer": "ipython3",
   "version": "3.8.8"
  }
 },
 "nbformat": 4,
 "nbformat_minor": 5
}
