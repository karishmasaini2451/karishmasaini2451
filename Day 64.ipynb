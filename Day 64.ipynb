{
 "cells": [
  {
   "cell_type": "markdown",
   "id": "42fe3a8f",
   "metadata": {},
   "source": [
    "Write a Python program to remove newline characters from a file."
   ]
  },
  {
   "cell_type": "code",
   "execution_count": 4,
   "id": "78dabe1a",
   "metadata": {},
   "outputs": [
    {
     "name": "stdout",
     "output_type": "stream",
     "text": [
      "None\n"
     ]
    }
   ],
   "source": [
    "with open('day64','x')as f:\n",
    "    print(f.writelines(['hello how are you\\n','where are you from\\n','do you want anything\\n']))"
   ]
  },
  {
   "cell_type": "code",
   "execution_count": 5,
   "id": "ca73e427",
   "metadata": {},
   "outputs": [
    {
     "data": {
      "text/plain": [
       "['hello how are you', 'where are you from', 'do you want anything']"
      ]
     },
     "execution_count": 5,
     "metadata": {},
     "output_type": "execute_result"
    }
   ],
   "source": [
    "with open('test.1','r')as f:\n",
    "    a =f.readlines()\n",
    "a\n",
    "b=[]\n",
    "for i in a:\n",
    "    i =i.replace('\\n','')\n",
    "    b.append(i)\n",
    "b\n",
    "    "
   ]
  }
 ],
 "metadata": {
  "kernelspec": {
   "display_name": "Python 3",
   "language": "python",
   "name": "python3"
  },
  "language_info": {
   "codemirror_mode": {
    "name": "ipython",
    "version": 3
   },
   "file_extension": ".py",
   "mimetype": "text/x-python",
   "name": "python",
   "nbconvert_exporter": "python",
   "pygments_lexer": "ipython3",
   "version": "3.8.8"
  }
 },
 "nbformat": 4,
 "nbformat_minor": 5
}
