{
 "cells": [
  {
   "cell_type": "markdown",
   "id": "339a1956",
   "metadata": {},
   "source": [
    "A company decided to give bonus of 5% to employee if his/her year of service is more than 5 years.\n",
    "Ask user for their salary and year of service and print the net bonus amount."
   ]
  },
  {
   "cell_type": "code",
   "execution_count": 3,
   "id": "d3f10c67",
   "metadata": {},
   "outputs": [
    {
     "name": "stdout",
     "output_type": "stream",
     "text": [
      "enter salary\n",
      "30000\n",
      "enter year of service\n",
      "6\n",
      "bonus on salary: 1500\n"
     ]
    }
   ],
   "source": [
    "print ('enter salary')\n",
    "salary = int(input())\n",
    "print ('enter year of service')\n",
    "yos = int(input())\n",
    "if yos > 5:\n",
    "    x = 0.05 * salary\n",
    "    print('bonus on salary:',int(x))\n",
    "else:\n",
    "    print('no bonus')"
   ]
  }
 ],
 "metadata": {
  "kernelspec": {
   "display_name": "Python 3",
   "language": "python",
   "name": "python3"
  },
  "language_info": {
   "codemirror_mode": {
    "name": "ipython",
    "version": 3
   },
   "file_extension": ".py",
   "mimetype": "text/x-python",
   "name": "python",
   "nbconvert_exporter": "python",
   "pygments_lexer": "ipython3",
   "version": "3.8.8"
  }
 },
 "nbformat": 4,
 "nbformat_minor": 5
}
