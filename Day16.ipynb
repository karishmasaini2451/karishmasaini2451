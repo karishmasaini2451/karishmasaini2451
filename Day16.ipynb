{
 "cells": [
  {
   "cell_type": "markdown",
   "id": "6758de32",
   "metadata": {},
   "source": [
    "With a given list [12, 24, 35, 24, 88, 120, 155, 88, 120, 155], write a program to print this list after removing all\n",
    "duplicate values with original order reserved."
   ]
  },
  {
   "cell_type": "code",
   "execution_count": 1,
   "id": "795bc94e",
   "metadata": {},
   "outputs": [
    {
     "name": "stdout",
     "output_type": "stream",
     "text": [
      "{35, 12, 155, 24, 88, 120}\n",
      "[120, 88, 24, 155, 12, 35]\n"
     ]
    }
   ],
   "source": [
    "l=[12, 24, 35, 24, 88, 120, 155, 88, 120, 155]\n",
    "s = set(l)\n",
    "print(s)\n",
    "r = list(s)\n",
    "\n",
    "print(r[ : :-1])"
   ]
  },
  {
   "cell_type": "markdown",
   "id": "728aba3e",
   "metadata": {},
   "source": [
    "Please write a program which accepts a string from console and print it in reverse order.\n",
    "If the following string is given as input to the program: rise to vote sir"
   ]
  },
  {
   "cell_type": "code",
   "execution_count": 2,
   "id": "8daa4781",
   "metadata": {},
   "outputs": [
    {
     "name": "stdout",
     "output_type": "stream",
     "text": [
      "enter a string:rise to vote sir\n"
     ]
    },
    {
     "data": {
      "text/plain": [
       "'ris etov ot esir'"
      ]
     },
     "execution_count": 2,
     "metadata": {},
     "output_type": "execute_result"
    }
   ],
   "source": [
    "string = input('enter a string:')\n",
    "def reverse():\n",
    "    return string[ : : -1]\n",
    "\n",
    "reverse()"
   ]
  }
 ],
 "metadata": {
  "kernelspec": {
   "display_name": "Python 3",
   "language": "python",
   "name": "python3"
  },
  "language_info": {
   "codemirror_mode": {
    "name": "ipython",
    "version": 3
   },
   "file_extension": ".py",
   "mimetype": "text/x-python",
   "name": "python",
   "nbconvert_exporter": "python",
   "pygments_lexer": "ipython3",
   "version": "3.8.8"
  }
 },
 "nbformat": 4,
 "nbformat_minor": 5
}
