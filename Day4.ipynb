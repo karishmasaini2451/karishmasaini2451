{
 "cells": [
  {
   "cell_type": "markdown",
   "id": "19c009b9",
   "metadata": {},
   "source": [
    "Define a function that can convert a integer into a string and print it in console."
   ]
  },
  {
   "cell_type": "code",
   "execution_count": 2,
   "id": "b2936b8e",
   "metadata": {},
   "outputs": [
    {
     "data": {
      "text/plain": [
       "'123'"
      ]
     },
     "execution_count": 2,
     "metadata": {},
     "output_type": "execute_result"
    }
   ],
   "source": [
    "def func(n):\n",
    "    return str(n)\n",
    "    \n",
    "func(123)"
   ]
  },
  {
   "cell_type": "markdown",
   "id": "76f10a1f",
   "metadata": {},
   "source": [
    "Define a function that can accept two strings as input and concatenate them and then print it in console."
   ]
  },
  {
   "cell_type": "code",
   "execution_count": 1,
   "id": "eef2149b",
   "metadata": {},
   "outputs": [
    {
     "data": {
      "text/plain": [
       "'xy'"
      ]
     },
     "execution_count": 1,
     "metadata": {},
     "output_type": "execute_result"
    }
   ],
   "source": [
    "def func(x,y):\n",
    "    return 'x'+'y'\n",
    "\n",
    "func('karishma','saini')"
   ]
  },
  {
   "cell_type": "markdown",
   "id": "6eb8725c",
   "metadata": {},
   "source": [
    "Define a function that can accept two strings as input and print the string with maximum length in console. \n",
    "If two strings have the same length,\n",
    "then the function should print all strings line by line."
   ]
  },
  {
   "cell_type": "code",
   "execution_count": 4,
   "id": "dde8bdff",
   "metadata": {},
   "outputs": [
    {
     "name": "stdout",
     "output_type": "stream",
     "text": [
      "X is greater karishma\n"
     ]
    }
   ],
   "source": [
    "def func(x,y):\n",
    "    if len(x)==len(y):\n",
    "        print('Both are equals',x+y)\n",
    "    elif len(x)>len(y):\n",
    "        print('X is greater',x)\n",
    "    else:\n",
    "        print('Y is greater',y)\n",
    "    \n",
    "              \n",
    "func('karishma','saini')\n",
    "    \n",
    "    "
   ]
  }
 ],
 "metadata": {
  "kernelspec": {
   "display_name": "Python 3",
   "language": "python",
   "name": "python3"
  },
  "language_info": {
   "codemirror_mode": {
    "name": "ipython",
    "version": 3
   },
   "file_extension": ".py",
   "mimetype": "text/x-python",
   "name": "python",
   "nbconvert_exporter": "python",
   "pygments_lexer": "ipython3",
   "version": "3.8.8"
  }
 },
 "nbformat": 4,
 "nbformat_minor": 5
}
