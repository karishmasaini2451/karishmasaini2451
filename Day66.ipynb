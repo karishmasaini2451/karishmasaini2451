{
 "cells": [
  {
   "cell_type": "markdown",
   "id": "8c858b8f",
   "metadata": {},
   "source": [
    "Please write a program using generator to print the even numbers between 0 and n in\n",
    "comma separated form while n is input by console."
   ]
  },
  {
   "cell_type": "code",
   "execution_count": 1,
   "id": "11ecf319",
   "metadata": {},
   "outputs": [
    {
     "name": "stdout",
     "output_type": "stream",
     "text": [
      "0,2,4,6,8,10,"
     ]
    }
   ],
   "source": [
    "def func(n):\n",
    "    for i in range(0,n+1):\n",
    "        if i % 2==0:\n",
    "            yield i\n",
    "        \n",
    "for i in func(10):\n",
    "    print(i,end = ',')"
   ]
  },
  {
   "cell_type": "markdown",
   "id": "a5f6b3a5",
   "metadata": {},
   "source": [
    "Please write a program using generator to print the numbers which can be divisible by 5 and 7 between 0 and n in\n",
    "comma separated form while n is input by console. If the following n is given as input to the program: 100 Then, \n",
    "the output of the program should be: 0, 35, 70"
   ]
  },
  {
   "cell_type": "code",
   "execution_count": 2,
   "id": "d5759229",
   "metadata": {},
   "outputs": [
    {
     "name": "stdout",
     "output_type": "stream",
     "text": [
      "0,35,70,"
     ]
    }
   ],
   "source": [
    "def gen(n):\n",
    "    for i in range(0,n+1):\n",
    "        if i % 5 ==0 and i% 7 ==0:\n",
    "            yield i\n",
    "            \n",
    "#a = iter(gen(100))\n",
    "for i in gen(100):\n",
    "    print(i,end = ',')"
   ]
  }
 ],
 "metadata": {
  "kernelspec": {
   "display_name": "Python 3",
   "language": "python",
   "name": "python3"
  },
  "language_info": {
   "codemirror_mode": {
    "name": "ipython",
    "version": 3
   },
   "file_extension": ".py",
   "mimetype": "text/x-python",
   "name": "python",
   "nbconvert_exporter": "python",
   "pygments_lexer": "ipython3",
   "version": "3.8.8"
  }
 },
 "nbformat": 4,
 "nbformat_minor": 5
}
