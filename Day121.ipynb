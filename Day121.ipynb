{
 "cells": [
  {
   "cell_type": "markdown",
   "id": "68567091",
   "metadata": {},
   "source": [
    "Define a class named Circle which can be constructed by a radius. The Circle class has a method which can compute the area."
   ]
  },
  {
   "cell_type": "code",
   "execution_count": 2,
   "id": "4236b2e5",
   "metadata": {},
   "outputs": [],
   "source": [
    "class Circle:\n",
    "    def __init__(self, radius):\n",
    "        self.radius = radius\n",
    "        \n",
    "    def area(self):\n",
    "        a = 22/7 * self.radius ** 2\n",
    "        print (\"Area of Circle:\", a)"
   ]
  },
  {
   "cell_type": "code",
   "execution_count": 3,
   "id": "98f950e2",
   "metadata": {},
   "outputs": [
    {
     "name": "stdout",
     "output_type": "stream",
     "text": [
      "Enter the Radius: 7\n"
     ]
    }
   ],
   "source": [
    "r = int(input(\"Enter the Radius: \"))\n",
    "\n",
    "cir = Circle(r)"
   ]
  },
  {
   "cell_type": "code",
   "execution_count": 4,
   "id": "98090b95",
   "metadata": {},
   "outputs": [
    {
     "name": "stdout",
     "output_type": "stream",
     "text": [
      "Area of Circle: 154.0\n"
     ]
    }
   ],
   "source": [
    "cir.area()"
   ]
  }
 ],
 "metadata": {
  "kernelspec": {
   "display_name": "Python 3",
   "language": "python",
   "name": "python3"
  },
  "language_info": {
   "codemirror_mode": {
    "name": "ipython",
    "version": 3
   },
   "file_extension": ".py",
   "mimetype": "text/x-python",
   "name": "python",
   "nbconvert_exporter": "python",
   "pygments_lexer": "ipython3",
   "version": "3.8.8"
  }
 },
 "nbformat": 4,
 "nbformat_minor": 5
}
