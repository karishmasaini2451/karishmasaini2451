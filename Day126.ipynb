{
 "cells": [
  {
   "cell_type": "markdown",
   "id": "51f13979",
   "metadata": {},
   "source": [
    "write a program to find the  even nos from 1 to 50 using while loop"
   ]
  },
  {
   "cell_type": "code",
   "execution_count": 1,
   "id": "cf7895b6",
   "metadata": {},
   "outputs": [
    {
     "name": "stdout",
     "output_type": "stream",
     "text": [
      "2,4,6,8,10,12,14,16,18,20,22,24,26,28,30,32,34,36,38,40,42,44,46,48,50,"
     ]
    }
   ],
   "source": [
    "i = 0\n",
    "while i<50:\n",
    "    i = i+2\n",
    "    print(i,end =',')"
   ]
  }
 ],
 "metadata": {
  "kernelspec": {
   "display_name": "Python 3",
   "language": "python",
   "name": "python3"
  },
  "language_info": {
   "codemirror_mode": {
    "name": "ipython",
    "version": 3
   },
   "file_extension": ".py",
   "mimetype": "text/x-python",
   "name": "python",
   "nbconvert_exporter": "python",
   "pygments_lexer": "ipython3",
   "version": "3.8.8"
  }
 },
 "nbformat": 4,
 "nbformat_minor": 5
}
