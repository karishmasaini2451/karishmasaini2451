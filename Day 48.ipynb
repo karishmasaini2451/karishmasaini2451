{
 "cells": [
  {
   "cell_type": "markdown",
   "id": "acc5d857",
   "metadata": {},
   "source": [
    "Write a program to check whether a number entered is three digit number or not."
   ]
  },
  {
   "cell_type": "code",
   "execution_count": 6,
   "id": "13edc581",
   "metadata": {},
   "outputs": [
    {
     "name": "stdout",
     "output_type": "stream",
     "text": [
      "100  is  a three digit number\n"
     ]
    }
   ],
   "source": [
    "def func(n):\n",
    "    if len(n)==3:\n",
    "        print(n,\" is  a three digit number\")\n",
    "    else:\n",
    "        print(n,'is not a three digit number')\n",
    "        \n",
    "func('100')"
   ]
  }
 ],
 "metadata": {
  "kernelspec": {
   "display_name": "Python 3",
   "language": "python",
   "name": "python3"
  },
  "language_info": {
   "codemirror_mode": {
    "name": "ipython",
    "version": 3
   },
   "file_extension": ".py",
   "mimetype": "text/x-python",
   "name": "python",
   "nbconvert_exporter": "python",
   "pygments_lexer": "ipython3",
   "version": "3.8.8"
  }
 },
 "nbformat": 4,
 "nbformat_minor": 5
}
