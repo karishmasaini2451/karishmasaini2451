{
 "cells": [
  {
   "cell_type": "markdown",
   "id": "ef75b7d0",
   "metadata": {},
   "source": [
    "Write a function check(key) which takes a key as an argument and check whether that key is present in dictionary or not."
   ]
  },
  {
   "cell_type": "code",
   "execution_count": 1,
   "id": "6e471999",
   "metadata": {},
   "outputs": [
    {
     "name": "stdout",
     "output_type": "stream",
     "text": [
      "Key is present\n"
     ]
    }
   ],
   "source": [
    "d = {1:\"one\", 2:\"two\", 3:\"three\"}\n",
    "\n",
    "def check(c):\n",
    "    for k in d:\n",
    "        if k == c:\n",
    "            print (\"Key is present\")\n",
    "        else:\n",
    "            print (\"Key is not present\")\n",
    "            \n",
    "        break\n",
    "            \n",
    "check(1)"
   ]
  }
 ],
 "metadata": {
  "kernelspec": {
   "display_name": "Python 3",
   "language": "python",
   "name": "python3"
  },
  "language_info": {
   "codemirror_mode": {
    "name": "ipython",
    "version": 3
   },
   "file_extension": ".py",
   "mimetype": "text/x-python",
   "name": "python",
   "nbconvert_exporter": "python",
   "pygments_lexer": "ipython3",
   "version": "3.8.8"
  }
 },
 "nbformat": 4,
 "nbformat_minor": 5
}
