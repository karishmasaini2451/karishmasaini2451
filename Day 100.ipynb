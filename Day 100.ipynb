{
 "cells": [
  {
   "cell_type": "markdown",
   "id": "873e15dc",
   "metadata": {},
   "source": [
    "Write a Python program to listify the list of given strings individually using Python map."
   ]
  },
  {
   "cell_type": "code",
   "execution_count": 1,
   "id": "20b3b4be",
   "metadata": {},
   "outputs": [
    {
     "name": "stdout",
     "output_type": "stream",
     "text": [
      "[['k', 'a', 'r', 'i', 's', 'h', 'm', 'a'], ['s', 'a', 'i', 'n', 'i'], ['h', 'e', 'l', 'l', 'o']]\n"
     ]
    }
   ],
   "source": [
    "n = ['karishma','saini','hello']\n",
    "result= list(map(list,n))\n",
    "print(result)"
   ]
  },
  {
   "cell_type": "markdown",
   "id": "162cd0a9",
   "metadata": {},
   "source": [
    " Write a Python program to square the elements of a list using map() function."
   ]
  },
  {
   "cell_type": "code",
   "execution_count": 2,
   "id": "037b5e7e",
   "metadata": {},
   "outputs": [
    {
     "data": {
      "text/plain": [
       "[1, 4, 9, 16, 25]"
      ]
     },
     "execution_count": 2,
     "metadata": {},
     "output_type": "execute_result"
    }
   ],
   "source": [
    "n =[1,2,3,4,5]\n",
    "list(map(lambda x : x*x,n))"
   ]
  }
 ],
 "metadata": {
  "kernelspec": {
   "display_name": "Python 3",
   "language": "python",
   "name": "python3"
  },
  "language_info": {
   "codemirror_mode": {
    "name": "ipython",
    "version": 3
   },
   "file_extension": ".py",
   "mimetype": "text/x-python",
   "name": "python",
   "nbconvert_exporter": "python",
   "pygments_lexer": "ipython3",
   "version": "3.8.8"
  }
 },
 "nbformat": 4,
 "nbformat_minor": 5
}
