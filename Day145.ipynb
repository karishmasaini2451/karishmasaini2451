{
 "cells": [
  {
   "cell_type": "markdown",
   "id": "11538039",
   "metadata": {},
   "source": [
    "Write a NumPy program to multiply the values of two given vectors."
   ]
  },
  {
   "cell_type": "code",
   "execution_count": 2,
   "id": "d4462d1c",
   "metadata": {},
   "outputs": [],
   "source": [
    "import numpy as np"
   ]
  },
  {
   "cell_type": "code",
   "execution_count": 3,
   "id": "5d8f72fc",
   "metadata": {},
   "outputs": [
    {
     "name": "stdout",
     "output_type": "stream",
     "text": [
      "[7 1 5 1 4 1 5 7]\n",
      "[15 11 11 15 17 19 10 19]\n",
      "[105  11  55  15  68  19  50 133]\n"
     ]
    }
   ],
   "source": [
    "a = np.random.randint(0,10,8)\n",
    "print(a)\n",
    "b = np.random.randint(10,20,8)\n",
    "print(b)\n",
    "print(a*b)"
   ]
  }
 ],
 "metadata": {
  "kernelspec": {
   "display_name": "Python 3",
   "language": "python",
   "name": "python3"
  },
  "language_info": {
   "codemirror_mode": {
    "name": "ipython",
    "version": 3
   },
   "file_extension": ".py",
   "mimetype": "text/x-python",
   "name": "python",
   "nbconvert_exporter": "python",
   "pygments_lexer": "ipython3",
   "version": "3.8.8"
  }
 },
 "nbformat": 4,
 "nbformat_minor": 5
}
