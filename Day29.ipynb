{
 "cells": [
  {
   "cell_type": "code",
   "execution_count": null,
   "id": "57d92b71",
   "metadata": {},
   "outputs": [],
   "source": [
    " Write a Python program to create a function that takes one argument, \n",
    "and that argument will be multiplied with an unknown given number."
   ]
  },
  {
   "cell_type": "code",
   "execution_count": 1,
   "id": "4a997260",
   "metadata": {},
   "outputs": [
    {
     "name": "stdout",
     "output_type": "stream",
     "text": [
      "75\n"
     ]
    }
   ],
   "source": [
    "a = lambda x :15*x\n",
    "print(a(5))"
   ]
  },
  {
   "cell_type": "markdown",
   "id": "90847022",
   "metadata": {},
   "source": [
    "Write a Python program to filter a list of integers divisible by 2 using Lambda."
   ]
  },
  {
   "cell_type": "code",
   "execution_count": 3,
   "id": "2a6d8b3d",
   "metadata": {},
   "outputs": [
    {
     "data": {
      "text/plain": [
       "[2, 4, 6]"
      ]
     },
     "execution_count": 3,
     "metadata": {},
     "output_type": "execute_result"
    }
   ],
   "source": [
    "n = [1,2,3,4,5,6,7]\n",
    "list(filter(lambda x : x%2==0 ,n ))"
   ]
  }
 ],
 "metadata": {
  "kernelspec": {
   "display_name": "Python 3",
   "language": "python",
   "name": "python3"
  },
  "language_info": {
   "codemirror_mode": {
    "name": "ipython",
    "version": 3
   },
   "file_extension": ".py",
   "mimetype": "text/x-python",
   "name": "python",
   "nbconvert_exporter": "python",
   "pygments_lexer": "ipython3",
   "version": "3.8.8"
  }
 },
 "nbformat": 4,
 "nbformat_minor": 5
}
