{
 "cells": [
  {
   "cell_type": "markdown",
   "id": "d74fd195",
   "metadata": {},
   "source": [
    "Write a Python program to find if a given string starts with a given character using Lambda."
   ]
  },
  {
   "cell_type": "code",
   "execution_count": 1,
   "id": "c7ebdf16",
   "metadata": {},
   "outputs": [
    {
     "name": "stdout",
     "output_type": "stream",
     "text": [
      "True\n",
      "False\n"
     ]
    }
   ],
   "source": [
    "s = lambda x:True if x.startswith('A') else False\n",
    "print (s('Amit'))\n",
    "print (s('amit'))"
   ]
  },
  {
   "cell_type": "markdown",
   "id": "d52de952",
   "metadata": {},
   "source": [
    "Write a Python program to extract year, month, date and time using Lambda."
   ]
  },
  {
   "cell_type": "code",
   "execution_count": 2,
   "id": "c4eab431",
   "metadata": {},
   "outputs": [
    {
     "name": "stdout",
     "output_type": "stream",
     "text": [
      "2022-04-30 21:49:35.529358\n",
      "2022\n",
      "4\n",
      "30\n",
      "21:49:35.529358\n"
     ]
    }
   ],
   "source": [
    "import datetime\n",
    "\n",
    "t = datetime.datetime.now()\n",
    "print(t)\n",
    "\n",
    "year = lambda x: x.year\n",
    "month = lambda x: x.month\n",
    "day = lambda x: x.day\n",
    "time = lambda x: x.time()\n",
    "\n",
    "print (year(t))\n",
    "print (month(t))\n",
    "print (day(t))\n",
    "print (time(t))"
   ]
  }
 ],
 "metadata": {
  "kernelspec": {
   "display_name": "Python 3",
   "language": "python",
   "name": "python3"
  },
  "language_info": {
   "codemirror_mode": {
    "name": "ipython",
    "version": 3
   },
   "file_extension": ".py",
   "mimetype": "text/x-python",
   "name": "python",
   "nbconvert_exporter": "python",
   "pygments_lexer": "ipython3",
   "version": "3.8.8"
  }
 },
 "nbformat": 4,
 "nbformat_minor": 5
}
