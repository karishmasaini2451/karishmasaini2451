{
 "cells": [
  {
   "cell_type": "markdown",
   "id": "a00317d7",
   "metadata": {},
   "source": [
    "Write a Python program to find numbers divisible by nineteen or thirteen from a list of numbers using Lambda"
   ]
  },
  {
   "cell_type": "code",
   "execution_count": 1,
   "id": "b4b92adb",
   "metadata": {},
   "outputs": [
    {
     "data": {
      "text/plain": [
       "[False, True, False, False, False, True]"
      ]
     },
     "execution_count": 1,
     "metadata": {},
     "output_type": "execute_result"
    }
   ],
   "source": [
    "n = [1,19,2,3,45,26]\n",
    "list(map(lambda x : x % 19 ==0 or x % 13==0,n))"
   ]
  },
  {
   "cell_type": "code",
   "execution_count": null,
   "id": "4bc21866",
   "metadata": {},
   "outputs": [],
   "source": [
    "Write a Python program that multiply each number of given list\n",
    "with a given number using lambda function. Print the result."
   ]
  },
  {
   "cell_type": "code",
   "execution_count": 2,
   "id": "ef2966f1",
   "metadata": {},
   "outputs": [
    {
     "data": {
      "text/plain": [
       "[4, 8, 12, 16, 20]"
      ]
     },
     "execution_count": 2,
     "metadata": {},
     "output_type": "execute_result"
    }
   ],
   "source": [
    "n = [1,2,3,4,5]\n",
    "num = 4\n",
    "list(map(lambda x : x*num,n ))"
   ]
  }
 ],
 "metadata": {
  "kernelspec": {
   "display_name": "Python 3",
   "language": "python",
   "name": "python3"
  },
  "language_info": {
   "codemirror_mode": {
    "name": "ipython",
    "version": 3
   },
   "file_extension": ".py",
   "mimetype": "text/x-python",
   "name": "python",
   "nbconvert_exporter": "python",
   "pygments_lexer": "ipython3",
   "version": "3.8.8"
  }
 },
 "nbformat": 4,
 "nbformat_minor": 5
}
