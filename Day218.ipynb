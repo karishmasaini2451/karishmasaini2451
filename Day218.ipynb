{
 "cells": [
  {
   "cell_type": "markdown",
   "id": "b0b2777e",
   "metadata": {},
   "source": [
    "Write a program which can filter() to make a list whose elements are even number between 1 and 20 (both included)."
   ]
  },
  {
   "cell_type": "code",
   "execution_count": 1,
   "id": "33eb8888",
   "metadata": {},
   "outputs": [
    {
     "data": {
      "text/plain": [
       "[2, 4, 6, 8, 10, 12, 14, 16, 18, 20]"
      ]
     },
     "execution_count": 1,
     "metadata": {},
     "output_type": "execute_result"
    }
   ],
   "source": [
    "n = range(1,21)\n",
    "list(filter(lambda x :x%2==0,n))"
   ]
  },
  {
   "cell_type": "markdown",
   "id": "cbd61cd2",
   "metadata": {},
   "source": [
    "Write a program which can map() to make a list whose elements are square of numbers between 1 and 20 (both included)."
   ]
  },
  {
   "cell_type": "code",
   "execution_count": 2,
   "id": "06d822d2",
   "metadata": {},
   "outputs": [
    {
     "name": "stdout",
     "output_type": "stream",
     "text": [
      "[1, 4, 9, 16, 25, 36, 49, 64, 81, 100, 121, 144, 169, 196, 225, 256, 289, 324, 361, 400]\n"
     ]
    }
   ],
   "source": [
    "n = range(1,21)\n",
    "m =list(map(lambda x : x**2,n))\n",
    "print(m)"
   ]
  },
  {
   "cell_type": "markdown",
   "id": "8adf02ea",
   "metadata": {},
   "source": [
    "Define a class named Circle which can be constructed by a radius.\n",
    "The Circle class has a method which can compute the area."
   ]
  },
  {
   "cell_type": "code",
   "execution_count": 4,
   "id": "96612ce4",
   "metadata": {},
   "outputs": [
    {
     "name": "stdout",
     "output_type": "stream",
     "text": [
      "the  area of the circle:  113.03999999999999\n"
     ]
    }
   ],
   "source": [
    "class circle():\n",
    "    def __init__(self,radius):\n",
    "        self.radius = radius\n",
    "        \n",
    "    def area(self):\n",
    "        a =3.14*self.radius*self.radius                        \n",
    "        print('the  area of the circle: ', a)\n",
    "                                \n",
    "obj = circle(6)\n",
    "obj.area()"
   ]
  }
 ],
 "metadata": {
  "kernelspec": {
   "display_name": "Python 3",
   "language": "python",
   "name": "python3"
  },
  "language_info": {
   "codemirror_mode": {
    "name": "ipython",
    "version": 3
   },
   "file_extension": ".py",
   "mimetype": "text/x-python",
   "name": "python",
   "nbconvert_exporter": "python",
   "pygments_lexer": "ipython3",
   "version": "3.8.8"
  }
 },
 "nbformat": 4,
 "nbformat_minor": 5
}
