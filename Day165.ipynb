{
 "cells": [
  {
   "cell_type": "markdown",
   "id": "940dce57",
   "metadata": {},
   "source": [
    "Write a function previous(List, name) which is accepting list of names and a name and display the index value of the first occurence of the name passed in the list."
   ]
  },
  {
   "cell_type": "code",
   "execution_count": 2,
   "id": "ff7c2052",
   "metadata": {},
   "outputs": [
    {
     "name": "stdout",
     "output_type": "stream",
     "text": [
      "Index value: 5\n"
     ]
    }
   ],
   "source": [
    "name = [\"Amit\", \"Sumit\", \"Pooja\", \"Mini\", \"Ronit\", \"Poonam\"]\n",
    "\n",
    "def previous(List, name):\n",
    "        print (f\"Index value: {List.index(name)}\")\n",
    "        \n",
    "previous(name, \"Poonam\")"
   ]
  }
 ],
 "metadata": {
  "kernelspec": {
   "display_name": "Python 3",
   "language": "python",
   "name": "python3"
  },
  "language_info": {
   "codemirror_mode": {
    "name": "ipython",
    "version": 3
   },
   "file_extension": ".py",
   "mimetype": "text/x-python",
   "name": "python",
   "nbconvert_exporter": "python",
   "pygments_lexer": "ipython3",
   "version": "3.8.8"
  }
 },
 "nbformat": 4,
 "nbformat_minor": 5
}
