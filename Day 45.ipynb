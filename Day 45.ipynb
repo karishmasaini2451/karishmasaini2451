{
 "cells": [
  {
   "cell_type": "markdown",
   "id": "bbc52592",
   "metadata": {},
   "source": [
    "Write a program to find a leap year?"
   ]
  },
  {
   "cell_type": "code",
   "execution_count": 3,
   "id": "21b63da9",
   "metadata": {},
   "outputs": [
    {
     "name": "stdout",
     "output_type": "stream",
     "text": [
      "enter a year:2000\n",
      "2000 is a leap year\n"
     ]
    }
   ],
   "source": [
    "year  = int(input('enter a year:'))\n",
    "if year % 4 == 0 and year % 400==0 or year % 100!=0:\n",
    "    print(year,'is a leap year')\n",
    "else:\n",
    "    print(year,'not a leap year')"
   ]
  }
 ],
 "metadata": {
  "kernelspec": {
   "display_name": "Python 3",
   "language": "python",
   "name": "python3"
  },
  "language_info": {
   "codemirror_mode": {
    "name": "ipython",
    "version": 3
   },
   "file_extension": ".py",
   "mimetype": "text/x-python",
   "name": "python",
   "nbconvert_exporter": "python",
   "pygments_lexer": "ipython3",
   "version": "3.8.8"
  }
 },
 "nbformat": 4,
 "nbformat_minor": 5
}
