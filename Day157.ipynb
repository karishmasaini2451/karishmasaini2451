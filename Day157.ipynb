{
 "cells": [
  {
   "cell_type": "markdown",
   "id": "37ae7a05",
   "metadata": {},
   "source": [
    "Write a program that arrange all odd numbers on left side of the list and even numbers on the right side of the list. For example:\n",
    "Original List: L = [23, 44, 65, 78, 34, 21, 9]\n",
    "\n",
    "Output\n",
    "[9, 21, 65, 23, 44, 78, 34]"
   ]
  },
  {
   "cell_type": "code",
   "execution_count": 1,
   "id": "19b71f4b",
   "metadata": {},
   "outputs": [
    {
     "name": "stdout",
     "output_type": "stream",
     "text": [
      "Original List: [23, 44, 65, 78, 34, 21, 9]\n",
      "\n",
      "[9, 21, 65, 23, 44, 78, 34]\n"
     ]
    }
   ],
   "source": [
    "L = [23, 44, 65, 78, 34, 21, 9]\n",
    "print (f\"Original List: {L}\\n\")\n",
    "\n",
    "for i in range(len(L)):\n",
    "    if L[i] % 2 != 0:\n",
    "        L.insert(0, L.pop(i))\n",
    "    \n",
    "print (L)"
   ]
  }
 ],
 "metadata": {
  "kernelspec": {
   "display_name": "Python 3",
   "language": "python",
   "name": "python3"
  },
  "language_info": {
   "codemirror_mode": {
    "name": "ipython",
    "version": 3
   },
   "file_extension": ".py",
   "mimetype": "text/x-python",
   "name": "python",
   "nbconvert_exporter": "python",
   "pygments_lexer": "ipython3",
   "version": "3.8.8"
  }
 },
 "nbformat": 4,
 "nbformat_minor": 5
}
