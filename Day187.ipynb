{
 "cells": [
  {
   "cell_type": "markdown",
   "id": "a54d0ac5",
   "metadata": {},
   "source": [
    "Write a Python program to create a list containing the power of said number in bases raised to the corresponding number in the index using Python map."
   ]
  },
  {
   "cell_type": "code",
   "execution_count": 4,
   "id": "b7376ccb",
   "metadata": {},
   "outputs": [
    {
     "name": "stdout",
     "output_type": "stream",
     "text": [
      "[5, 100, 3375, 160000, 9765625, 729000000, 64339296875]\n"
     ]
    }
   ],
   "source": [
    "i = [1,2,3,4,5,6,7]\n",
    "num = [5,10,15,20,25,30,35]\n",
    "n=list(map(pow ,num,i))\n",
    "print(n)"
   ]
  }
 ],
 "metadata": {
  "kernelspec": {
   "display_name": "Python 3",
   "language": "python",
   "name": "python3"
  },
  "language_info": {
   "codemirror_mode": {
    "name": "ipython",
    "version": 3
   },
   "file_extension": ".py",
   "mimetype": "text/x-python",
   "name": "python",
   "nbconvert_exporter": "python",
   "pygments_lexer": "ipython3",
   "version": "3.8.8"
  }
 },
 "nbformat": 4,
 "nbformat_minor": 5
}
