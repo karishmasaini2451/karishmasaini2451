{
 "cells": [
  {
   "cell_type": "code",
   "execution_count": null,
   "id": "7d68bc02",
   "metadata": {},
   "outputs": [],
   "source": [
    "Write a Python script to sort (ascending and descending) a dictionary by value."
   ]
  },
  {
   "cell_type": "markdown",
   "id": "d2d58ddc",
   "metadata": {},
   "source": [
    "# Ascending order"
   ]
  },
  {
   "cell_type": "code",
   "execution_count": 1,
   "id": "73e8ff73",
   "metadata": {
    "scrolled": true
   },
   "outputs": [
    {
     "name": "stdout",
     "output_type": "stream",
     "text": [
      "[1, 3, 4, 6]\n"
     ]
    }
   ],
   "source": [
    "d = {1:2,6:3,3:4,4:5}\n",
    "n = sorted(d,key = lambda x:x)\n",
    "print(n)"
   ]
  },
  {
   "cell_type": "markdown",
   "id": "462f6c06",
   "metadata": {},
   "source": [
    "# Decending order"
   ]
  },
  {
   "cell_type": "code",
   "execution_count": 2,
   "id": "d73cac47",
   "metadata": {},
   "outputs": [
    {
     "name": "stdout",
     "output_type": "stream",
     "text": [
      "[6, 4, 2, 1]\n"
     ]
    }
   ],
   "source": [
    "d= {1:2,2:3,6:4,4:5}\n",
    "n = sorted(d,key = lambda x :x,reverse = True)\n",
    "print(n)"
   ]
  }
 ],
 "metadata": {
  "kernelspec": {
   "display_name": "Python 3",
   "language": "python",
   "name": "python3"
  },
  "language_info": {
   "codemirror_mode": {
    "name": "ipython",
    "version": 3
   },
   "file_extension": ".py",
   "mimetype": "text/x-python",
   "name": "python",
   "nbconvert_exporter": "python",
   "pygments_lexer": "ipython3",
   "version": "3.8.8"
  }
 },
 "nbformat": 4,
 "nbformat_minor": 5
}
