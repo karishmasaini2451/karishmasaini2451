{
 "cells": [
  {
   "cell_type": "markdown",
   "id": "ba2d687d",
   "metadata": {},
   "source": [
    "Define a class which has at least two methods:\n",
    "getString: to get a string from console input\n",
    "printString: to print the string in upper case"
   ]
  },
  {
   "cell_type": "code",
   "execution_count": 3,
   "id": "801470a3",
   "metadata": {},
   "outputs": [],
   "source": [
    "class St:\n",
    "    def __init__(self):\n",
    "        self.string = \"\"\n",
    "        \n",
    "    def getString(self):\n",
    "        self.string = input(\"Enter the String: \")\n",
    "        \n",
    "    def printString(self):\n",
    "        print (self.string.upper())"
   ]
  },
  {
   "cell_type": "code",
   "execution_count": 4,
   "id": "3249d1c6",
   "metadata": {},
   "outputs": [],
   "source": [
    "s = St()"
   ]
  },
  {
   "cell_type": "code",
   "execution_count": 5,
   "id": "d8f5bb63",
   "metadata": {},
   "outputs": [
    {
     "name": "stdout",
     "output_type": "stream",
     "text": [
      "Enter the String: amit\n",
      "AMIT\n"
     ]
    }
   ],
   "source": [
    "s.getString()\n",
    "s.printString()"
   ]
  }
 ],
 "metadata": {
  "kernelspec": {
   "display_name": "Python 3",
   "language": "python",
   "name": "python3"
  },
  "language_info": {
   "codemirror_mode": {
    "name": "ipython",
    "version": 3
   },
   "file_extension": ".py",
   "mimetype": "text/x-python",
   "name": "python",
   "nbconvert_exporter": "python",
   "pygments_lexer": "ipython3",
   "version": "3.8.8"
  }
 },
 "nbformat": 4,
 "nbformat_minor": 5
}
