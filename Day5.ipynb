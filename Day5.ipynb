{
 "cells": [
  {
   "cell_type": "markdown",
   "id": "d17a2ea5",
   "metadata": {},
   "source": [
    "Define a function that can accept an integer number as input and print the \"It is an even number\" \n",
    "if the number is even, otherwise print \"It is an odd number\"."
   ]
  },
  {
   "cell_type": "code",
   "execution_count": 1,
   "id": "c9c68969",
   "metadata": {},
   "outputs": [
    {
     "name": "stdout",
     "output_type": "stream",
     "text": [
      "it is an odd number\n"
     ]
    }
   ],
   "source": [
    "def func(n):\n",
    "    if n %2==0:\n",
    "        print('it is an even number')\n",
    "    else:\n",
    "        print('it is an odd number')\n",
    "        \n",
    "func(7)"
   ]
  },
  {
   "cell_type": "markdown",
   "id": "73f1919e",
   "metadata": {},
   "source": [
    "Define a function which can print a dictionary where the keys are numbers between 1 and 3 \n",
    "(both included) and the values are square of keys."
   ]
  },
  {
   "cell_type": "code",
   "execution_count": 2,
   "id": "6b55138a",
   "metadata": {},
   "outputs": [
    {
     "name": "stdout",
     "output_type": "stream",
     "text": [
      "{1: 1, 2: 4, 3: 9}\n"
     ]
    }
   ],
   "source": [
    "n = dict()\n",
    "for i in range(1,4):\n",
    "    n[i] = i**2\n",
    "print(n)"
   ]
  },
  {
   "cell_type": "markdown",
   "id": "d3ca96b9",
   "metadata": {},
   "source": [
    "Define a function which can print a dictionary where the keys are numbers between 1 and 20\n",
    "(both included) and the values are square of keys."
   ]
  },
  {
   "cell_type": "code",
   "execution_count": 3,
   "id": "36631132",
   "metadata": {},
   "outputs": [
    {
     "name": "stdout",
     "output_type": "stream",
     "text": [
      "{1: 1, 2: 4, 3: 9, 4: 16, 5: 25, 6: 36, 7: 49, 8: 64, 9: 81, 10: 100, 11: 121, 12: 144, 13: 169, 14: 196, 15: 225, 16: 256, 17: 289, 18: 324, 19: 361, 20: 400}\n"
     ]
    }
   ],
   "source": [
    "d = dict()\n",
    "for i in range(1,21):\n",
    "    d[i]=i**2\n",
    "print(d)"
   ]
  },
  {
   "cell_type": "markdown",
   "id": "d06aa2f5",
   "metadata": {},
   "source": [
    "Define a function which can generate a dictionary where the keys are numbers between 1 and 20 \n",
    "(both included) and the values are square of keys. \n",
    "The function should just print the values only."
   ]
  },
  {
   "cell_type": "code",
   "execution_count": 4,
   "id": "363de5e0",
   "metadata": {},
   "outputs": [
    {
     "name": "stdout",
     "output_type": "stream",
     "text": [
      "dict_values([1, 4, 9, 16, 25, 36, 49, 64, 81, 100, 121, 144, 169, 196, 225, 256, 289, 324, 361, 400])\n"
     ]
    }
   ],
   "source": [
    "d = {}\n",
    "for i in range(1,21):\n",
    "    d[i]=i*i\n",
    "print(d.values())\n",
    "    "
   ]
  }
 ],
 "metadata": {
  "kernelspec": {
   "display_name": "Python 3",
   "language": "python",
   "name": "python3"
  },
  "language_info": {
   "codemirror_mode": {
    "name": "ipython",
    "version": 3
   },
   "file_extension": ".py",
   "mimetype": "text/x-python",
   "name": "python",
   "nbconvert_exporter": "python",
   "pygments_lexer": "ipython3",
   "version": "3.8.8"
  }
 },
 "nbformat": 4,
 "nbformat_minor": 5
}
