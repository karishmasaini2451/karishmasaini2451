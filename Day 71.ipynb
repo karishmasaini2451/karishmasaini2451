{
 "cells": [
  {
   "cell_type": "markdown",
   "id": "76e3310c",
   "metadata": {},
   "source": [
    "Write a Python program to check a triangle is equilateral, isosceles or scalene.\n",
    "Note :\n",
    "An equilateral triangle is a triangle in which all three sides are equal.\n",
    "A scalene triangle is a triangle that has three unequal sides.\n",
    "An isosceles triangle is a triangle with (at least) two equal sides.\n",
    "Expected Output :\n",
    "\n",
    "Input lengths of the triangle sides:\n",
    "x: 6\n",
    "y: 8\n",
    "z: 12\n",
    "Scalene triangle"
   ]
  },
  {
   "cell_type": "code",
   "execution_count": 2,
   "id": "083a2094",
   "metadata": {},
   "outputs": [
    {
     "name": "stdout",
     "output_type": "stream",
     "text": [
      "Input lengths of the triangle sides: \n",
      "x: 6\n",
      "y: 8\n",
      "z: 12\n",
      "Scalene triangle\n"
     ]
    }
   ],
   "source": [
    "def check_triangle():\n",
    "    print ('Input lengths of the triangle sides: ')\n",
    "    x = (int(input('x: ')))\n",
    "    y = (int(input('y: ')))\n",
    "    z = (int(input('z: ')))\n",
    "    \n",
    "    if x == y == z:\n",
    "        print ('Equilateral triangle')\n",
    "        \n",
    "    elif x == y or y == z or z == x:\n",
    "        print ('Isosceles triangle')\n",
    "        \n",
    "    else:\n",
    "        print ('Scalene triangle')\n",
    "        \n",
    "check_triangle()"
   ]
  }
 ],
 "metadata": {
  "kernelspec": {
   "display_name": "Python 3",
   "language": "python",
   "name": "python3"
  },
  "language_info": {
   "codemirror_mode": {
    "name": "ipython",
    "version": 3
   },
   "file_extension": ".py",
   "mimetype": "text/x-python",
   "name": "python",
   "nbconvert_exporter": "python",
   "pygments_lexer": "ipython3",
   "version": "3.8.8"
  }
 },
 "nbformat": 4,
 "nbformat_minor": 5
}
